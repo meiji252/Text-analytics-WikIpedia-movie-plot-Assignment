{
 "cells": [
  {
   "cell_type": "code",
   "execution_count": 1,
   "id": "initial_id",
   "metadata": {
    "ExecuteTime": {
     "end_time": "2024-06-04T04:20:52.384918800Z",
     "start_time": "2024-06-04T04:20:52.301394800Z"
    },
    "tags": []
   },
   "outputs": [],
   "source": [
    "import pandas as pd\n",
    "import re\n",
    "from nltk.corpus import stopwords\n",
    "from nltk.tokenize import word_tokenize\n",
    "from nltk.stem import WordNetLemmatizer"
   ]
  },
  {
   "cell_type": "code",
   "execution_count": 2,
   "id": "722ce30e7d00b6ec",
   "metadata": {
    "ExecuteTime": {
     "end_time": "2024-06-03T10:59:05.509292900Z",
     "start_time": "2024-06-03T10:59:00.489639400Z"
    },
    "collapsed": false,
    "jupyter": {
     "outputs_hidden": false
    },
    "tags": []
   },
   "outputs": [
    {
     "name": "stderr",
     "output_type": "stream",
     "text": [
      "[nltk_data] Downloading package stopwords to /Users/Meiji/nltk_data...\n",
      "[nltk_data]   Unzipping corpora/stopwords.zip.\n",
      "[nltk_data] Downloading package punkt to /Users/Meiji/nltk_data...\n",
      "[nltk_data]   Unzipping tokenizers/punkt.zip.\n",
      "[nltk_data] Downloading package wordnet to /Users/Meiji/nltk_data...\n"
     ]
    },
    {
     "data": {
      "text/plain": [
       "True"
      ]
     },
     "execution_count": 2,
     "metadata": {},
     "output_type": "execute_result"
    }
   ],
   "source": [
    "import nltk\n",
    "nltk.download('stopwords')\n",
    "nltk.download('punkt')\n",
    "nltk.download('wordnet')"
   ]
  },
  {
   "cell_type": "markdown",
   "id": "6fb9e8b1-ea66-46a7-8362-f6b90731486e",
   "metadata": {},
   "source": [
    "# Load Data"
   ]
  },
  {
   "cell_type": "code",
   "execution_count": 3,
   "id": "c1349796420625b9",
   "metadata": {
    "ExecuteTime": {
     "end_time": "2024-06-03T11:01:47.028396400Z",
     "start_time": "2024-06-03T11:01:46.121693Z"
    },
    "collapsed": false,
    "jupyter": {
     "outputs_hidden": false
    },
    "tags": []
   },
   "outputs": [
    {
     "data": {
      "text/html": [
       "<div>\n",
       "<style scoped>\n",
       "    .dataframe tbody tr th:only-of-type {\n",
       "        vertical-align: middle;\n",
       "    }\n",
       "\n",
       "    .dataframe tbody tr th {\n",
       "        vertical-align: top;\n",
       "    }\n",
       "\n",
       "    .dataframe thead th {\n",
       "        text-align: right;\n",
       "    }\n",
       "</style>\n",
       "<table border=\"1\" class=\"dataframe\">\n",
       "  <thead>\n",
       "    <tr style=\"text-align: right;\">\n",
       "      <th></th>\n",
       "      <th>Release Year</th>\n",
       "      <th>Title</th>\n",
       "      <th>Origin/Ethnicity</th>\n",
       "      <th>Director</th>\n",
       "      <th>Cast</th>\n",
       "      <th>Genre</th>\n",
       "      <th>Wiki Page</th>\n",
       "      <th>Plot</th>\n",
       "    </tr>\n",
       "  </thead>\n",
       "  <tbody>\n",
       "    <tr>\n",
       "      <th>0</th>\n",
       "      <td>1901</td>\n",
       "      <td>Kansas Saloon Smashers</td>\n",
       "      <td>American</td>\n",
       "      <td>Unknown</td>\n",
       "      <td>NaN</td>\n",
       "      <td>unknown</td>\n",
       "      <td>https://en.wikipedia.org/wiki/Kansas_Saloon_Sm...</td>\n",
       "      <td>A bartender is working at a saloon, serving dr...</td>\n",
       "    </tr>\n",
       "    <tr>\n",
       "      <th>1</th>\n",
       "      <td>1901</td>\n",
       "      <td>Love by the Light of the Moon</td>\n",
       "      <td>American</td>\n",
       "      <td>Unknown</td>\n",
       "      <td>NaN</td>\n",
       "      <td>unknown</td>\n",
       "      <td>https://en.wikipedia.org/wiki/Love_by_the_Ligh...</td>\n",
       "      <td>The moon, painted with a smiling face hangs ov...</td>\n",
       "    </tr>\n",
       "    <tr>\n",
       "      <th>2</th>\n",
       "      <td>1901</td>\n",
       "      <td>The Martyred Presidents</td>\n",
       "      <td>American</td>\n",
       "      <td>Unknown</td>\n",
       "      <td>NaN</td>\n",
       "      <td>unknown</td>\n",
       "      <td>https://en.wikipedia.org/wiki/The_Martyred_Pre...</td>\n",
       "      <td>The film, just over a minute long, is composed...</td>\n",
       "    </tr>\n",
       "    <tr>\n",
       "      <th>3</th>\n",
       "      <td>1901</td>\n",
       "      <td>Terrible Teddy, the Grizzly King</td>\n",
       "      <td>American</td>\n",
       "      <td>Unknown</td>\n",
       "      <td>NaN</td>\n",
       "      <td>unknown</td>\n",
       "      <td>https://en.wikipedia.org/wiki/Terrible_Teddy,_...</td>\n",
       "      <td>Lasting just 61 seconds and consisting of two ...</td>\n",
       "    </tr>\n",
       "    <tr>\n",
       "      <th>4</th>\n",
       "      <td>1902</td>\n",
       "      <td>Jack and the Beanstalk</td>\n",
       "      <td>American</td>\n",
       "      <td>George S. Fleming, Edwin S. Porter</td>\n",
       "      <td>NaN</td>\n",
       "      <td>unknown</td>\n",
       "      <td>https://en.wikipedia.org/wiki/Jack_and_the_Bea...</td>\n",
       "      <td>The earliest known adaptation of the classic f...</td>\n",
       "    </tr>\n",
       "  </tbody>\n",
       "</table>\n",
       "</div>"
      ],
      "text/plain": [
       "   Release Year                             Title Origin/Ethnicity  \\\n",
       "0          1901            Kansas Saloon Smashers         American   \n",
       "1          1901     Love by the Light of the Moon         American   \n",
       "2          1901           The Martyred Presidents         American   \n",
       "3          1901  Terrible Teddy, the Grizzly King         American   \n",
       "4          1902            Jack and the Beanstalk         American   \n",
       "\n",
       "                             Director Cast    Genre  \\\n",
       "0                             Unknown  NaN  unknown   \n",
       "1                             Unknown  NaN  unknown   \n",
       "2                             Unknown  NaN  unknown   \n",
       "3                             Unknown  NaN  unknown   \n",
       "4  George S. Fleming, Edwin S. Porter  NaN  unknown   \n",
       "\n",
       "                                           Wiki Page  \\\n",
       "0  https://en.wikipedia.org/wiki/Kansas_Saloon_Sm...   \n",
       "1  https://en.wikipedia.org/wiki/Love_by_the_Ligh...   \n",
       "2  https://en.wikipedia.org/wiki/The_Martyred_Pre...   \n",
       "3  https://en.wikipedia.org/wiki/Terrible_Teddy,_...   \n",
       "4  https://en.wikipedia.org/wiki/Jack_and_the_Bea...   \n",
       "\n",
       "                                                Plot  \n",
       "0  A bartender is working at a saloon, serving dr...  \n",
       "1  The moon, painted with a smiling face hangs ov...  \n",
       "2  The film, just over a minute long, is composed...  \n",
       "3  Lasting just 61 seconds and consisting of two ...  \n",
       "4  The earliest known adaptation of the classic f...  "
      ]
     },
     "execution_count": 3,
     "metadata": {},
     "output_type": "execute_result"
    }
   ],
   "source": [
    "wiki_movie_plots = pd.read_csv('wiki_movie_plots_deduped.csv')\n",
    "wiki_movie_plots.head()"
   ]
  },
  {
   "cell_type": "code",
   "execution_count": 4,
   "id": "f9bd5ba7-c3f0-4e59-af82-b081c1e34148",
   "metadata": {
    "tags": []
   },
   "outputs": [
    {
     "name": "stdout",
     "output_type": "stream",
     "text": [
      ">> Number of raw genres: 2265\n",
      ">> Number of raw rows: 34886\n"
     ]
    }
   ],
   "source": [
    "all_genres = list(wiki_movie_plots['Genre'].unique())\n",
    "print('>> Number of raw genres:', len(all_genres))\n",
    "print('>> Number of raw rows:', wiki_movie_plots.shape[0])"
   ]
  },
  {
   "cell_type": "markdown",
   "id": "8a8a3880-7fe8-46de-81d0-471761427574",
   "metadata": {},
   "source": [
    "# Preprocessing genres"
   ]
  },
  {
   "cell_type": "code",
   "execution_count": 5,
   "id": "08970528-71a7-4d2f-9b7f-e484d0363c95",
   "metadata": {
    "tags": []
   },
   "outputs": [],
   "source": [
    "ALLOWED_GENRES = {'action', 'adventure', 'animated', 'biographical', 'comedy', 'crime',\n",
    "                  'drama', 'fantasy', 'history', 'horror', 'music', 'mystery',\n",
    "                  'romance', 'scifi', 'sport', 'thriller', 'war', 'western', 'documentary'}"
   ]
  },
  {
   "cell_type": "code",
   "execution_count": 6,
   "id": "81442161-812f-4b93-b800-6b2ac2929c8f",
   "metadata": {
    "tags": []
   },
   "outputs": [],
   "source": [
    "def preprocess_genres(genre_string):\n",
    "    \n",
    "    \"\"\"\n",
    "    Processes a single genre string by first splitting it on non-hyphen non-alphanumeric characters, applying\n",
    "    predefined replacements to standardize genre names, splitting again by hyphens, and then filtering genres\n",
    "    against a predefined list. Any genre not in the allowed list is classified as \"other\".\n",
    "\n",
    "    Parameters:\n",
    "    - genre_string (str): A string containing multiple genre descriptions which may include separators like commas or slashes.\n",
    "\n",
    "    Returns:\n",
    "    - str: A comma-separated sorted list of unique genre names standardized according to a predefined list of allowed genres.\n",
    "            Unrecognized genres are labeled as \"other\".\n",
    "\n",
    "    This function ensures that genre names are consistent and categorized, facilitating easier analysis and usage in\n",
    "    data processing tasks.\n",
    "\n",
    "    Example:\n",
    "    genre_string = \"sci-fi, romantic-comedy, epic-war, unknown style, crime-drama\"\n",
    "    result = preprocess_genres(genre_string)\n",
    "    print(result)  # Output might include 'scifi', 'romance', 'war', 'other', etc., based on the input and settings.\n",
    "    \"\"\"\n",
    "    \n",
    "    replacements = {\n",
    "        'biodrama': 'biographical-drama',\n",
    "        'docudrama': 'documentary-drama',\n",
    "        'melodrama': 'drama',\n",
    "        'sci-fi': 'scifi',\n",
    "        'science-fiction': 'scifi',\n",
    "        'science fiction': 'scifi',\n",
    "        'rom com': 'romance-comedy',\n",
    "        'romcom': 'romance-comedy',\n",
    "        'rom-com': 'romance-comedy',\n",
    "        'romantic comedy': 'romance-comedy',\n",
    "        'romantic': 'romance',\n",
    "        'rom-comedy': 'romance-comedy',\n",
    "        'bio': 'biographical',\n",
    "        'biographic': 'biographical',\n",
    "        'biography': 'biographical',\n",
    "        'anime': 'animated',\n",
    "        'animation': 'animated'\n",
    "    }\n",
    "\n",
    "    # Convert to lowercase and perform initial splitting\n",
    "    genres = re.split(r'[^a-zA-Z0-9\\-]+', genre_string.lower())\n",
    "\n",
    "    processed_genres = set()\n",
    "    for genre in genres:\n",
    "        # Apply replacements\n",
    "        for old, new in replacements.items():\n",
    "            genre = re.sub(r'\\b{}\\b'.format(re.escape(old)), new, genre)\n",
    "        \n",
    "        # Split by hyphens and validate genres\n",
    "        subgenres = genre.split('-')\n",
    "        for subgenre in subgenres:\n",
    "            clean_subgenre = subgenre.strip()\n",
    "            if clean_subgenre in ALLOWED_GENRES:\n",
    "                processed_genres.add(clean_subgenre)\n",
    "            elif clean_subgenre:\n",
    "                processed_genres.add('other')\n",
    "\n",
    "    return ','.join(sorted(processed_genres))"
   ]
  },
  {
   "cell_type": "code",
   "execution_count": 7,
   "id": "1989a912-8482-44f0-98bd-b47081445128",
   "metadata": {
    "tags": []
   },
   "outputs": [
    {
     "name": "stdout",
     "output_type": "stream",
     "text": [
      "0                 other\n",
      "1                 other\n",
      "2                 other\n",
      "3                 other\n",
      "4                 other\n",
      "              ...      \n",
      "34881             other\n",
      "34882            comedy\n",
      "34883            comedy\n",
      "34884    comedy,romance\n",
      "34885           romance\n",
      "Name: Genre, Length: 34886, dtype: object\n"
     ]
    }
   ],
   "source": [
    "# Apply the preprocessing\n",
    "genres_processed = pd.Series(wiki_movie_plots['Genre']).apply(preprocess_genres)\n",
    "print(genres_processed)"
   ]
  },
  {
   "cell_type": "code",
   "execution_count": 8,
   "id": "97be5543-53dc-45cc-9967-e0c07ef112e2",
   "metadata": {
    "tags": []
   },
   "outputs": [
    {
     "data": {
      "text/html": [
       "<div>\n",
       "<style scoped>\n",
       "    .dataframe tbody tr th:only-of-type {\n",
       "        vertical-align: middle;\n",
       "    }\n",
       "\n",
       "    .dataframe tbody tr th {\n",
       "        vertical-align: top;\n",
       "    }\n",
       "\n",
       "    .dataframe thead th {\n",
       "        text-align: right;\n",
       "    }\n",
       "</style>\n",
       "<table border=\"1\" class=\"dataframe\">\n",
       "  <thead>\n",
       "    <tr style=\"text-align: right;\">\n",
       "      <th></th>\n",
       "      <th>Release Year</th>\n",
       "      <th>Title</th>\n",
       "      <th>Origin/Ethnicity</th>\n",
       "      <th>Director</th>\n",
       "      <th>Cast</th>\n",
       "      <th>Genre</th>\n",
       "      <th>Wiki Page</th>\n",
       "      <th>Plot</th>\n",
       "      <th>action</th>\n",
       "      <th>adventure</th>\n",
       "      <th>...</th>\n",
       "      <th>horror</th>\n",
       "      <th>music</th>\n",
       "      <th>mystery</th>\n",
       "      <th>other</th>\n",
       "      <th>romance</th>\n",
       "      <th>scifi</th>\n",
       "      <th>sport</th>\n",
       "      <th>thriller</th>\n",
       "      <th>war</th>\n",
       "      <th>western</th>\n",
       "    </tr>\n",
       "  </thead>\n",
       "  <tbody>\n",
       "    <tr>\n",
       "      <th>0</th>\n",
       "      <td>1901</td>\n",
       "      <td>Kansas Saloon Smashers</td>\n",
       "      <td>American</td>\n",
       "      <td>Unknown</td>\n",
       "      <td>NaN</td>\n",
       "      <td>unknown</td>\n",
       "      <td>https://en.wikipedia.org/wiki/Kansas_Saloon_Sm...</td>\n",
       "      <td>A bartender is working at a saloon, serving dr...</td>\n",
       "      <td>0</td>\n",
       "      <td>0</td>\n",
       "      <td>...</td>\n",
       "      <td>0</td>\n",
       "      <td>0</td>\n",
       "      <td>0</td>\n",
       "      <td>1</td>\n",
       "      <td>0</td>\n",
       "      <td>0</td>\n",
       "      <td>0</td>\n",
       "      <td>0</td>\n",
       "      <td>0</td>\n",
       "      <td>0</td>\n",
       "    </tr>\n",
       "    <tr>\n",
       "      <th>1</th>\n",
       "      <td>1901</td>\n",
       "      <td>Love by the Light of the Moon</td>\n",
       "      <td>American</td>\n",
       "      <td>Unknown</td>\n",
       "      <td>NaN</td>\n",
       "      <td>unknown</td>\n",
       "      <td>https://en.wikipedia.org/wiki/Love_by_the_Ligh...</td>\n",
       "      <td>The moon, painted with a smiling face hangs ov...</td>\n",
       "      <td>0</td>\n",
       "      <td>0</td>\n",
       "      <td>...</td>\n",
       "      <td>0</td>\n",
       "      <td>0</td>\n",
       "      <td>0</td>\n",
       "      <td>1</td>\n",
       "      <td>0</td>\n",
       "      <td>0</td>\n",
       "      <td>0</td>\n",
       "      <td>0</td>\n",
       "      <td>0</td>\n",
       "      <td>0</td>\n",
       "    </tr>\n",
       "    <tr>\n",
       "      <th>2</th>\n",
       "      <td>1901</td>\n",
       "      <td>The Martyred Presidents</td>\n",
       "      <td>American</td>\n",
       "      <td>Unknown</td>\n",
       "      <td>NaN</td>\n",
       "      <td>unknown</td>\n",
       "      <td>https://en.wikipedia.org/wiki/The_Martyred_Pre...</td>\n",
       "      <td>The film, just over a minute long, is composed...</td>\n",
       "      <td>0</td>\n",
       "      <td>0</td>\n",
       "      <td>...</td>\n",
       "      <td>0</td>\n",
       "      <td>0</td>\n",
       "      <td>0</td>\n",
       "      <td>1</td>\n",
       "      <td>0</td>\n",
       "      <td>0</td>\n",
       "      <td>0</td>\n",
       "      <td>0</td>\n",
       "      <td>0</td>\n",
       "      <td>0</td>\n",
       "    </tr>\n",
       "    <tr>\n",
       "      <th>3</th>\n",
       "      <td>1901</td>\n",
       "      <td>Terrible Teddy, the Grizzly King</td>\n",
       "      <td>American</td>\n",
       "      <td>Unknown</td>\n",
       "      <td>NaN</td>\n",
       "      <td>unknown</td>\n",
       "      <td>https://en.wikipedia.org/wiki/Terrible_Teddy,_...</td>\n",
       "      <td>Lasting just 61 seconds and consisting of two ...</td>\n",
       "      <td>0</td>\n",
       "      <td>0</td>\n",
       "      <td>...</td>\n",
       "      <td>0</td>\n",
       "      <td>0</td>\n",
       "      <td>0</td>\n",
       "      <td>1</td>\n",
       "      <td>0</td>\n",
       "      <td>0</td>\n",
       "      <td>0</td>\n",
       "      <td>0</td>\n",
       "      <td>0</td>\n",
       "      <td>0</td>\n",
       "    </tr>\n",
       "    <tr>\n",
       "      <th>4</th>\n",
       "      <td>1902</td>\n",
       "      <td>Jack and the Beanstalk</td>\n",
       "      <td>American</td>\n",
       "      <td>George S. Fleming, Edwin S. Porter</td>\n",
       "      <td>NaN</td>\n",
       "      <td>unknown</td>\n",
       "      <td>https://en.wikipedia.org/wiki/Jack_and_the_Bea...</td>\n",
       "      <td>The earliest known adaptation of the classic f...</td>\n",
       "      <td>0</td>\n",
       "      <td>0</td>\n",
       "      <td>...</td>\n",
       "      <td>0</td>\n",
       "      <td>0</td>\n",
       "      <td>0</td>\n",
       "      <td>1</td>\n",
       "      <td>0</td>\n",
       "      <td>0</td>\n",
       "      <td>0</td>\n",
       "      <td>0</td>\n",
       "      <td>0</td>\n",
       "      <td>0</td>\n",
       "    </tr>\n",
       "  </tbody>\n",
       "</table>\n",
       "<p>5 rows × 28 columns</p>\n",
       "</div>"
      ],
      "text/plain": [
       "   Release Year                             Title Origin/Ethnicity  \\\n",
       "0          1901            Kansas Saloon Smashers         American   \n",
       "1          1901     Love by the Light of the Moon         American   \n",
       "2          1901           The Martyred Presidents         American   \n",
       "3          1901  Terrible Teddy, the Grizzly King         American   \n",
       "4          1902            Jack and the Beanstalk         American   \n",
       "\n",
       "                             Director Cast    Genre  \\\n",
       "0                             Unknown  NaN  unknown   \n",
       "1                             Unknown  NaN  unknown   \n",
       "2                             Unknown  NaN  unknown   \n",
       "3                             Unknown  NaN  unknown   \n",
       "4  George S. Fleming, Edwin S. Porter  NaN  unknown   \n",
       "\n",
       "                                           Wiki Page  \\\n",
       "0  https://en.wikipedia.org/wiki/Kansas_Saloon_Sm...   \n",
       "1  https://en.wikipedia.org/wiki/Love_by_the_Ligh...   \n",
       "2  https://en.wikipedia.org/wiki/The_Martyred_Pre...   \n",
       "3  https://en.wikipedia.org/wiki/Terrible_Teddy,_...   \n",
       "4  https://en.wikipedia.org/wiki/Jack_and_the_Bea...   \n",
       "\n",
       "                                                Plot  action  adventure  ...  \\\n",
       "0  A bartender is working at a saloon, serving dr...       0          0  ...   \n",
       "1  The moon, painted with a smiling face hangs ov...       0          0  ...   \n",
       "2  The film, just over a minute long, is composed...       0          0  ...   \n",
       "3  Lasting just 61 seconds and consisting of two ...       0          0  ...   \n",
       "4  The earliest known adaptation of the classic f...       0          0  ...   \n",
       "\n",
       "   horror  music  mystery  other  romance  scifi  sport  thriller  war  \\\n",
       "0       0      0        0      1        0      0      0         0    0   \n",
       "1       0      0        0      1        0      0      0         0    0   \n",
       "2       0      0        0      1        0      0      0         0    0   \n",
       "3       0      0        0      1        0      0      0         0    0   \n",
       "4       0      0        0      1        0      0      0         0    0   \n",
       "\n",
       "   western  \n",
       "0        0  \n",
       "1        0  \n",
       "2        0  \n",
       "3        0  \n",
       "4        0  \n",
       "\n",
       "[5 rows x 28 columns]"
      ]
     },
     "execution_count": 8,
     "metadata": {},
     "output_type": "execute_result"
    }
   ],
   "source": [
    "# Create a 0-1 binary column for each genre in the list, and append back to the dataframe\n",
    "wiki_movie_plots_processed = pd.concat([wiki_movie_plots, genres_processed.str.get_dummies(sep=',')], axis=1)\n",
    "wiki_movie_plots_processed.head()"
   ]
  },
  {
   "cell_type": "code",
   "execution_count": 9,
   "id": "fc8efcb0-9ff7-41c7-9a70-0b1345372adc",
   "metadata": {
    "tags": []
   },
   "outputs": [],
   "source": [
    "# Filter rows with at least 1 specific (non-other) genre, and remove the other column.\n",
    "\n",
    "# Filtering logic: not(other==1 and row_sum(all genre columns)==1)\n",
    "\n",
    "# rows_with_other_genre_only = genres[(genres['other'] == 1) & (genres.sum(axis=1)==1)]\n",
    "wiki_movie_plots_processed = wiki_movie_plots_processed[~((wiki_movie_plots_processed['other'] == 1) & (wiki_movie_plots_processed.iloc[:,8:].sum(axis=1)==1))].drop('other', axis=1)"
   ]
  },
  {
   "cell_type": "code",
   "execution_count": 10,
   "id": "b6338db9-11b4-4329-8541-8c5df39b9666",
   "metadata": {
    "tags": []
   },
   "outputs": [
    {
     "name": "stdout",
     "output_type": "stream",
     "text": [
      ">> Number of raw rows: 34886\n",
      ">> Number of processed rows: 25993\n",
      "0.7450839878461274\n"
     ]
    }
   ],
   "source": [
    "print('>> Number of raw rows:', wiki_movie_plots.shape[0])\n",
    "print('>> Number of processed rows:', wiki_movie_plots_processed.shape[0])\n",
    "\n",
    "print(25993/34886)"
   ]
  },
  {
   "cell_type": "code",
   "execution_count": 11,
   "id": "e8922243-a321-4b08-b48e-cb4ce5d074db",
   "metadata": {},
   "outputs": [],
   "source": [
    "# Save\n",
    "wiki_movie_plots_processed.to_csv('data_processed_genres.csv', index=False)"
   ]
  },
  {
   "cell_type": "code",
   "execution_count": 22,
   "id": "a6cb98d3-8b83-498e-b1bd-332aa68b412d",
   "metadata": {
    "tags": []
   },
   "outputs": [
    {
     "data": {
      "text/plain": [
       "1    20602\n",
       "2     4694\n",
       "3      536\n",
       "4      111\n",
       "0       31\n",
       "5       17\n",
       "6        1\n",
       "7        1\n",
       "Name: count, dtype: int64"
      ]
     },
     "execution_count": 22,
     "metadata": {},
     "output_type": "execute_result"
    }
   ],
   "source": [
    "wiki_movie_plots_processed.iloc[:,8:].sum(axis=1).value_counts()"
   ]
  },
  {
   "cell_type": "code",
   "execution_count": null,
   "id": "df1492d0-8090-4fb8-9c3a-36470dbf9026",
   "metadata": {},
   "outputs": [],
   "source": []
  }
 ],
 "metadata": {
  "kernelspec": {
   "display_name": "Python 3 (ipykernel)",
   "language": "python",
   "name": "python3"
  },
  "language_info": {
   "codemirror_mode": {
    "name": "ipython",
    "version": 3
   },
   "file_extension": ".py",
   "mimetype": "text/x-python",
   "name": "python",
   "nbconvert_exporter": "python",
   "pygments_lexer": "ipython3",
   "version": "3.11.5"
  }
 },
 "nbformat": 4,
 "nbformat_minor": 5
}
